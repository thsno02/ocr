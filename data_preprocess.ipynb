{
 "cells": [
  {
   "cell_type": "markdown",
   "metadata": {},
   "source": [
    "# Reorganize the files\n",
    "\n",
    "This is a typically data alignment problem:\n",
    "\n",
    "+ rename the images -> change the corresponding file name in the `label.txt`;\n",
    "+ repeat the above process until traverse all the data folders.\n",
    "\n",
    "Name Standard: `t(ru)_00XXXX.xxx`"
   ]
  },
  {
   "cell_type": "code",
   "execution_count": 4,
   "metadata": {},
   "outputs": [],
   "source": [
    "import os, re, shutil\n",
    "\n",
    "cwd = os.getcwd()\n",
    "data_path = os.path.join(cwd, 'data')\n",
    "cnt = 1\n",
    "label_text = []\n",
    "outlier = []\n",
    "\n",
    "for folder in os.listdir(data_path):\n",
    "    if folder == '.DS_Store':\n",
    "        continue\n",
    "    folder_path = os.path.join(data_path, folder)\n",
    "    label_path = os.path.join(folder_path, 'Label.txt')\n",
    "\n",
    "    with open(label_path, 'r') as f:\n",
    "        f = f.readlines()\n",
    "\n",
    "    fname_pattern = '(?<=^).+jpg(?=\\\\t)'\n",
    "    for i in range(len(f)):\n",
    "        # file name format, `t_00XXXX.jpg`\n",
    "        new_file_name = 't_{0:{fill}{align}6}.jpg'.format(cnt, fill = '>', align = 0)\n",
    "        old_file_name = re.match(fname_pattern, f[i])[0].split('/')[1]\n",
    "        f[i] = re.sub(fname_pattern, new_file_name, f[i])\n",
    "        try:\n",
    "            os.rename(os.path.join(folder_path, old_file_name), os.path.join(data_path,new_file_name))\n",
    "            cnt += 1\n",
    "        except:\n",
    "            outlier.append(old_file_name + '\\n')\n",
    "    \n",
    "    with open(label_path, 'w') as file:\n",
    "        file.writelines(f)\n",
    "        label_text.extend(f)\n",
    "\n",
    "    shutil.rmtree(folder_path)\n",
    "\n",
    "with open(os.path.join(data_path, 'label.txt'), 'w') as file:\n",
    "    file.writelines(label_text)\n",
    "\n",
    "with open(os.path.join(data_path, 'outliers.txt'), 'w') as file:\n",
    "    file.writelines(outlier)"
   ]
  }
 ],
 "metadata": {
  "kernelspec": {
   "display_name": "Python 3.9.12 ('ocr')",
   "language": "python",
   "name": "python3"
  },
  "language_info": {
   "codemirror_mode": {
    "name": "ipython",
    "version": 3
   },
   "file_extension": ".py",
   "mimetype": "text/x-python",
   "name": "python",
   "nbconvert_exporter": "python",
   "pygments_lexer": "ipython3",
   "version": "3.9.12"
  },
  "orig_nbformat": 4,
  "vscode": {
   "interpreter": {
    "hash": "afb4adc4467ccd601704e8f58cc4c5f7d40faddd5ef11929d9d152cab736240e"
   }
  }
 },
 "nbformat": 4,
 "nbformat_minor": 2
}
