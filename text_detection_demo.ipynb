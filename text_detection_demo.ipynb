{
 "cells": [
  {
   "cell_type": "code",
   "execution_count": null,
   "metadata": {},
   "outputs": [],
   "source": [
    "# 首次运行需要打开下一行的注释，下载PaddleOCR代码\n",
    "#!git clone https://gitee.com/paddlepaddle/PaddleOCR\n",
    "import os\n",
    "# 修改代码运行的默认目录为 /home/aistudio/PaddleOCR\n",
    "os.chdir(\"/root/PaddleOCR\")\n",
    "# 安装PaddleOCR第三方依赖\n",
    "!pip install --upgrade pip\n",
    "!pip install -r requirements.txt"
   ]
  },
  {
   "cell_type": "code",
   "execution_count": null,
   "metadata": {},
   "outputs": [],
   "source": [
    "\n",
    "# 1. 从paddleocr中import PaddleOCR类\n",
    "from paddleocr import PaddleOCR\n",
    "import numpy as np\n",
    "import cv2\n",
    "import matplotlib.pyplot as plt\n",
    "# 在notebook中使用matplotlib.pyplot绘图时，需要添加该命令进行显示\n",
    "%matplotlib inline\n",
    "\n",
    "# 2. 声明PaddleOCR类\n",
    "ocr = PaddleOCR()  \n",
    "img_path = '/root/ocr/data/t_000001.jpg'\n",
    "# 3. 执行预测\n",
    "result = ocr.ocr(img_path, rec=False)\n",
    "print(f\"The predicted text box of {img_path} are follows.\")\n",
    "print(result)"
   ]
  },
  {
   "cell_type": "code",
   "execution_count": null,
   "metadata": {},
   "outputs": [],
   "source": [
    "# 4. 可视化检测结果\n",
    "image = cv2.imread(img_path)\n",
    "boxes = [line[0] for line in result]\n",
    "for box in result:\n",
    "    box = np.reshape(np.array(box), [-1, 1, 2]).astype(np.int64)\n",
    "    image = cv2.polylines(np.array(image), [box], True, (255, 0, 0), 2)\n",
    "\n",
    "# 画出读取的图片\n",
    "plt.figure(figsize=(10, 10))\n",
    "plt.imshow(image)"
   ]
  }
 ],
 "metadata": {
  "kernelspec": {
   "display_name": "Python 3.9.13 ('ocr')",
   "language": "python",
   "name": "python3"
  },
  "language_info": {
   "codemirror_mode": {
    "name": "ipython",
    "version": 3
   },
   "file_extension": ".py",
   "mimetype": "text/x-python",
   "name": "python",
   "nbconvert_exporter": "python",
   "pygments_lexer": "ipython3",
   "version": "3.9.13"
  },
  "orig_nbformat": 4,
  "vscode": {
   "interpreter": {
    "hash": "63e06ffb7dc970ddb139da3bbe9a473633dff2f38ba06b7c38562def8480fc16"
   }
  }
 },
 "nbformat": 4,
 "nbformat_minor": 2
}
